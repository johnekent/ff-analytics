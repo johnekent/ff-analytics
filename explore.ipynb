{
 "cells": [
  {
   "cell_type": "code",
   "execution_count": 1,
   "metadata": {},
   "outputs": [],
   "source": [
    "import pandas as pd\n",
    "import pandasai"
   ]
  },
  {
   "cell_type": "code",
   "execution_count": 6,
   "metadata": {},
   "outputs": [],
   "source": [
    "qb_df = pd.read_csv(\"C:\\\\Users\\\\john_\\\\OneDrive\\\\ff\\\\2023\\\\huddle_2023_0_QB_projections.csv\")"
   ]
  },
  {
   "cell_type": "code",
   "execution_count": 8,
   "metadata": {},
   "outputs": [
    {
     "data": {
      "text/html": [
       "<div>\n",
       "<style scoped>\n",
       "    .dataframe tbody tr th:only-of-type {\n",
       "        vertical-align: middle;\n",
       "    }\n",
       "\n",
       "    .dataframe tbody tr th {\n",
       "        vertical-align: top;\n",
       "    }\n",
       "\n",
       "    .dataframe thead th {\n",
       "        text-align: right;\n",
       "    }\n",
       "</style>\n",
       "<table border=\"1\" class=\"dataframe\">\n",
       "  <thead>\n",
       "    <tr style=\"text-align: right;\">\n",
       "      <th></th>\n",
       "      <th>Rank</th>\n",
       "      <th>Player</th>\n",
       "      <th>Pos</th>\n",
       "      <th>Team</th>\n",
       "      <th>Bye</th>\n",
       "      <th>FFPTS</th>\n",
       "      <th>PAYDS</th>\n",
       "      <th>PATDS</th>\n",
       "      <th>INT</th>\n",
       "      <th>RUYDS</th>\n",
       "      <th>RUTDS</th>\n",
       "      <th>TOTYDS</th>\n",
       "      <th>TOTTD</th>\n",
       "    </tr>\n",
       "  </thead>\n",
       "  <tbody>\n",
       "    <tr>\n",
       "      <th>0</th>\n",
       "      <td>1</td>\n",
       "      <td>Patrick Mahomes</td>\n",
       "      <td>QB</td>\n",
       "      <td>KC</td>\n",
       "      <td>10</td>\n",
       "      <td>461.0</td>\n",
       "      <td>5000</td>\n",
       "      <td>40</td>\n",
       "      <td>10</td>\n",
       "      <td>350</td>\n",
       "      <td>4</td>\n",
       "      <td>5350</td>\n",
       "      <td>44</td>\n",
       "    </tr>\n",
       "    <tr>\n",
       "      <th>1</th>\n",
       "      <td>2</td>\n",
       "      <td>Josh Allen</td>\n",
       "      <td>QB</td>\n",
       "      <td>BUF</td>\n",
       "      <td>13</td>\n",
       "      <td>447.0</td>\n",
       "      <td>4380</td>\n",
       "      <td>35</td>\n",
       "      <td>12</td>\n",
       "      <td>600</td>\n",
       "      <td>7</td>\n",
       "      <td>4980</td>\n",
       "      <td>42</td>\n",
       "    </tr>\n",
       "    <tr>\n",
       "      <th>2</th>\n",
       "      <td>3</td>\n",
       "      <td>Joe Burrow</td>\n",
       "      <td>QB</td>\n",
       "      <td>CIN</td>\n",
       "      <td>7</td>\n",
       "      <td>411.0</td>\n",
       "      <td>4700</td>\n",
       "      <td>36</td>\n",
       "      <td>12</td>\n",
       "      <td>200</td>\n",
       "      <td>3</td>\n",
       "      <td>4900</td>\n",
       "      <td>39</td>\n",
       "    </tr>\n",
       "    <tr>\n",
       "      <th>3</th>\n",
       "      <td>4</td>\n",
       "      <td>Jalen Hurts</td>\n",
       "      <td>QB</td>\n",
       "      <td>PHI</td>\n",
       "      <td>10</td>\n",
       "      <td>403.0</td>\n",
       "      <td>3680</td>\n",
       "      <td>25</td>\n",
       "      <td>6</td>\n",
       "      <td>750</td>\n",
       "      <td>11</td>\n",
       "      <td>4430</td>\n",
       "      <td>36</td>\n",
       "    </tr>\n",
       "  </tbody>\n",
       "</table>\n",
       "</div>"
      ],
      "text/plain": [
       "   Rank           Player Pos Team  Bye  FFPTS  PAYDS  PATDS  INT  RUYDS  \\\n",
       "0     1  Patrick Mahomes  QB   KC   10  461.0   5000     40   10    350   \n",
       "1     2       Josh Allen  QB  BUF   13  447.0   4380     35   12    600   \n",
       "2     3       Joe Burrow  QB  CIN    7  411.0   4700     36   12    200   \n",
       "3     4      Jalen Hurts  QB  PHI   10  403.0   3680     25    6    750   \n",
       "\n",
       "   RUTDS  TOTYDS  TOTTD  \n",
       "0      4    5350     44  \n",
       "1      7    4980     42  \n",
       "2      3    4900     39  \n",
       "3     11    4430     36  "
      ]
     },
     "execution_count": 8,
     "metadata": {},
     "output_type": "execute_result"
    }
   ],
   "source": [
    "qb_df.head(4)"
   ]
  },
  {
   "cell_type": "code",
   "execution_count": 32,
   "metadata": {},
   "outputs": [
    {
     "data": {
      "text/plain": [
       "Index(['Rank', 'Player', 'Position', 'Team', 'Bye', 'Total Points',\n",
       "       'Passing Yards', 'Passing Touchdowns', 'Interceptions', 'Rushing Yards',\n",
       "       'Rushing Touchdowns', 'Total Yards', 'Total Tuchdowns'],\n",
       "      dtype='object')"
      ]
     },
     "execution_count": 32,
     "metadata": {},
     "output_type": "execute_result"
    }
   ],
   "source": [
    "# rename columns to make it easier for AI to understand\n",
    "#qb_df.columns\n",
    "qb_df.rename(inplace=True, columns={'Pos': 'Position', 'FFPTS': 'Total Points', 'PAYDS':'Passing Yards', 'PATDS':'Passing Touchdowns', 'INT':'Interceptions', 'RUYDS':'Rushing Yards', 'RUTDS': 'Rushing Touchdowns', 'TOTYDS': 'Total Yards', 'TOTTD': 'Total Tuchdowns'})\n",
    "qb_df.columns"
   ]
  },
  {
   "cell_type": "code",
   "execution_count": 12,
   "metadata": {},
   "outputs": [
    {
     "data": {
      "text/plain": [
       "[]"
      ]
     },
     "execution_count": 12,
     "metadata": {},
     "output_type": "execute_result"
    }
   ],
   "source": [
    "import configparser\n",
    "config = configparser.ConfigParser()\n",
    "config.read(\"C:\\\\Users\\\\john_\\\\OneDrive\\\\ff\\\\config.ini\")\n"
   ]
  },
  {
   "cell_type": "code",
   "execution_count": 14,
   "metadata": {},
   "outputs": [],
   "source": [
    "api_key = config['DEFAULT']['OpenAIKey']\n"
   ]
  },
  {
   "cell_type": "code",
   "execution_count": 17,
   "metadata": {},
   "outputs": [],
   "source": [
    "from pandasai import PandasAI\n",
    "from pandasai.llm.openai import OpenAI\n"
   ]
  },
  {
   "cell_type": "code",
   "execution_count": 22,
   "metadata": {},
   "outputs": [],
   "source": [
    "llm = OpenAI(api_token=api_key)\n",
    "pandas_ai = PandasAI(llm)"
   ]
  },
  {
   "cell_type": "code",
   "execution_count": 28,
   "metadata": {},
   "outputs": [
    {
     "data": {
      "text/plain": [
       "40"
      ]
     },
     "execution_count": 28,
     "metadata": {},
     "output_type": "execute_result"
    }
   ],
   "source": [
    "pandas_ai(qb_df, prompt='How many rows are in this set?')"
   ]
  },
  {
   "cell_type": "code",
   "execution_count": 35,
   "metadata": {},
   "outputs": [
    {
     "data": {
      "text/html": [
       "<div>\n",
       "<style scoped>\n",
       "    .dataframe tbody tr th:only-of-type {\n",
       "        vertical-align: middle;\n",
       "    }\n",
       "\n",
       "    .dataframe tbody tr th {\n",
       "        vertical-align: top;\n",
       "    }\n",
       "\n",
       "    .dataframe thead th {\n",
       "        text-align: right;\n",
       "    }\n",
       "</style>\n",
       "<table border=\"1\" class=\"dataframe\">\n",
       "  <thead>\n",
       "    <tr style=\"text-align: right;\">\n",
       "      <th></th>\n",
       "      <th>Rank</th>\n",
       "      <th>Player</th>\n",
       "      <th>Position</th>\n",
       "      <th>Team</th>\n",
       "      <th>Bye</th>\n",
       "      <th>Total Points</th>\n",
       "      <th>Passing Yards</th>\n",
       "      <th>Passing Touchdowns</th>\n",
       "      <th>Interceptions</th>\n",
       "      <th>Rushing Yards</th>\n",
       "      <th>Rushing Touchdowns</th>\n",
       "      <th>Total Yards</th>\n",
       "      <th>Total Tuchdowns</th>\n",
       "    </tr>\n",
       "  </thead>\n",
       "  <tbody>\n",
       "    <tr>\n",
       "      <th>0</th>\n",
       "      <td>1</td>\n",
       "      <td>Patrick Mahomes</td>\n",
       "      <td>QB</td>\n",
       "      <td>KC</td>\n",
       "      <td>10</td>\n",
       "      <td>461.0</td>\n",
       "      <td>5000</td>\n",
       "      <td>40</td>\n",
       "      <td>10</td>\n",
       "      <td>350</td>\n",
       "      <td>4</td>\n",
       "      <td>5350</td>\n",
       "      <td>44</td>\n",
       "    </tr>\n",
       "    <tr>\n",
       "      <th>6</th>\n",
       "      <td>7</td>\n",
       "      <td>Justin Herbert</td>\n",
       "      <td>QB</td>\n",
       "      <td>LAC</td>\n",
       "      <td>5</td>\n",
       "      <td>371.0</td>\n",
       "      <td>4720</td>\n",
       "      <td>30</td>\n",
       "      <td>12</td>\n",
       "      <td>150</td>\n",
       "      <td>0</td>\n",
       "      <td>4870</td>\n",
       "      <td>30</td>\n",
       "    </tr>\n",
       "    <tr>\n",
       "      <th>2</th>\n",
       "      <td>3</td>\n",
       "      <td>Joe Burrow</td>\n",
       "      <td>QB</td>\n",
       "      <td>CIN</td>\n",
       "      <td>7</td>\n",
       "      <td>411.0</td>\n",
       "      <td>4700</td>\n",
       "      <td>36</td>\n",
       "      <td>12</td>\n",
       "      <td>200</td>\n",
       "      <td>3</td>\n",
       "      <td>4900</td>\n",
       "      <td>39</td>\n",
       "    </tr>\n",
       "    <tr>\n",
       "      <th>7</th>\n",
       "      <td>8</td>\n",
       "      <td>Kirk Cousins</td>\n",
       "      <td>QB</td>\n",
       "      <td>MIN</td>\n",
       "      <td>13</td>\n",
       "      <td>364.0</td>\n",
       "      <td>4600</td>\n",
       "      <td>30</td>\n",
       "      <td>7</td>\n",
       "      <td>100</td>\n",
       "      <td>1</td>\n",
       "      <td>4700</td>\n",
       "      <td>31</td>\n",
       "    </tr>\n",
       "    <tr>\n",
       "      <th>5</th>\n",
       "      <td>6</td>\n",
       "      <td>Trevor Lawrence</td>\n",
       "      <td>QB</td>\n",
       "      <td>JAC</td>\n",
       "      <td>9</td>\n",
       "      <td>374.0</td>\n",
       "      <td>4400</td>\n",
       "      <td>28</td>\n",
       "      <td>9</td>\n",
       "      <td>300</td>\n",
       "      <td>3</td>\n",
       "      <td>4700</td>\n",
       "      <td>31</td>\n",
       "    </tr>\n",
       "  </tbody>\n",
       "</table>\n",
       "</div>"
      ],
      "text/plain": [
       "   Rank           Player Position Team  Bye  Total Points  Passing Yards  \\\n",
       "0     1  Patrick Mahomes       QB   KC   10         461.0           5000   \n",
       "6     7   Justin Herbert       QB  LAC    5         371.0           4720   \n",
       "2     3       Joe Burrow       QB  CIN    7         411.0           4700   \n",
       "7     8     Kirk Cousins       QB  MIN   13         364.0           4600   \n",
       "5     6  Trevor Lawrence       QB  JAC    9         374.0           4400   \n",
       "\n",
       "   Passing Touchdowns  Interceptions  Rushing Yards  Rushing Touchdowns  \\\n",
       "0                  40             10            350                   4   \n",
       "6                  30             12            150                   0   \n",
       "2                  36             12            200                   3   \n",
       "7                  30              7            100                   1   \n",
       "5                  28              9            300                   3   \n",
       "\n",
       "   Total Yards  Total Tuchdowns  \n",
       "0         5350               44  \n",
       "6         4870               30  \n",
       "2         4900               39  \n",
       "7         4700               31  \n",
       "5         4700               31  "
      ]
     },
     "execution_count": 35,
     "metadata": {},
     "output_type": "execute_result"
    }
   ],
   "source": [
    "pandas_ai(qb_df, prompt='What are the top five players by passing yards?')"
   ]
  },
  {
   "cell_type": "code",
   "execution_count": 38,
   "metadata": {},
   "outputs": [
    {
     "data": {
      "text/plain": [
       "'ARI'"
      ]
     },
     "execution_count": 38,
     "metadata": {},
     "output_type": "execute_result"
    }
   ],
   "source": [
    "pandas_ai(qb_df, prompt='What team has the most players?')"
   ]
  },
  {
   "cell_type": "code",
   "execution_count": 41,
   "metadata": {},
   "outputs": [
    {
     "data": {
      "text/html": [
       "<div>\n",
       "<style scoped>\n",
       "    .dataframe tbody tr th:only-of-type {\n",
       "        vertical-align: middle;\n",
       "    }\n",
       "\n",
       "    .dataframe tbody tr th {\n",
       "        vertical-align: top;\n",
       "    }\n",
       "\n",
       "    .dataframe thead th {\n",
       "        text-align: right;\n",
       "    }\n",
       "</style>\n",
       "<table border=\"1\" class=\"dataframe\">\n",
       "  <thead>\n",
       "    <tr style=\"text-align: right;\">\n",
       "      <th></th>\n",
       "      <th>Rank</th>\n",
       "      <th>Player</th>\n",
       "      <th>Position</th>\n",
       "      <th>Team</th>\n",
       "      <th>Bye</th>\n",
       "      <th>Total Points</th>\n",
       "      <th>Passing Yards</th>\n",
       "      <th>Passing Touchdowns</th>\n",
       "      <th>Interceptions</th>\n",
       "      <th>Rushing Yards</th>\n",
       "      <th>Rushing Touchdowns</th>\n",
       "      <th>Total Yards</th>\n",
       "      <th>Total Tuchdowns</th>\n",
       "    </tr>\n",
       "  </thead>\n",
       "  <tbody>\n",
       "    <tr>\n",
       "      <th>6</th>\n",
       "      <td>7</td>\n",
       "      <td>Justin Herbert</td>\n",
       "      <td>QB</td>\n",
       "      <td>LAC</td>\n",
       "      <td>5</td>\n",
       "      <td>371.0</td>\n",
       "      <td>4720</td>\n",
       "      <td>30</td>\n",
       "      <td>12</td>\n",
       "      <td>150</td>\n",
       "      <td>0</td>\n",
       "      <td>4870</td>\n",
       "      <td>30</td>\n",
       "    </tr>\n",
       "  </tbody>\n",
       "</table>\n",
       "</div>"
      ],
      "text/plain": [
       "   Rank          Player Position Team  Bye  Total Points  Passing Yards  \\\n",
       "6     7  Justin Herbert       QB  LAC    5         371.0           4720   \n",
       "\n",
       "   Passing Touchdowns  Interceptions  Rushing Yards  Rushing Touchdowns  \\\n",
       "6                  30             12            150                   0   \n",
       "\n",
       "   Total Yards  Total Tuchdowns  \n",
       "6         4870               30  "
      ]
     },
     "execution_count": 41,
     "metadata": {},
     "output_type": "execute_result"
    }
   ],
   "source": [
    "pandas_ai(qb_df, prompt='Who is on LAC?')"
   ]
  }
 ],
 "metadata": {
  "kernelspec": {
   "display_name": "ff-analytics",
   "language": "python",
   "name": "python3"
  },
  "language_info": {
   "codemirror_mode": {
    "name": "ipython",
    "version": 3
   },
   "file_extension": ".py",
   "mimetype": "text/x-python",
   "name": "python",
   "nbconvert_exporter": "python",
   "pygments_lexer": "ipython3",
   "version": "3.9.13"
  },
  "orig_nbformat": 4
 },
 "nbformat": 4,
 "nbformat_minor": 2
}
